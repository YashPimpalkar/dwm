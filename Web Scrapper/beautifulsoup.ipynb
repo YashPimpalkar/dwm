{
  "nbformat": 4,
  "nbformat_minor": 0,
  "metadata": {
    "colab": {
      "provenance": [],
      "toc_visible": true
    },
    "kernelspec": {
      "name": "python3",
      "display_name": "Python 3"
    },
    "language_info": {
      "name": "python"
    }
  },
  "cells": [
    {
      "cell_type": "code",
      "execution_count": 6,
      "metadata": {
        "colab": {
          "base_uri": "https://localhost:8080/"
        },
        "id": "q_WuwOqZ-Pvo",
        "outputId": "ad49a735-4a0e-496a-cc32-26418b353eb3"
      },
      "outputs": [
        {
          "output_type": "stream",
          "name": "stdout",
          "text": [
            "Friends of the boston symphony.\n",
            "hello\n"
          ]
        }
      ],
      "source": [
        "import bs4\n",
        "import requests\n",
        "\n",
        "base_url = 'https://www.dictionary.com/browse/{}'\n",
        "\n",
        "# Assuming 'search' is a predefined variable holding the word you're searching for\n",
        "search = \"friend\"  # replace with your word\n",
        "res1 = requests.get(base_url.format(search))\n",
        "\n",
        "soup = bs4.BeautifulSoup(res1.text, features='html.parser')\n",
        "example = soup.findAll('span', {'luna-example italic'})\n",
        "example1 = str(example[0].text)\n",
        "final_example = example1.strip().capitalize()\n",
        "print(final_example)\n",
        "print(\"hello\")"
      ]
    },
    {
      "cell_type": "code",
      "source": [
        "from google.colab import drive\n",
        "drive.mount('/content/drive')"
      ],
      "metadata": {
        "id": "MHu4cDpNAa2b"
      },
      "execution_count": null,
      "outputs": []
    },
    {
      "cell_type": "code",
      "source": [],
      "metadata": {
        "id": "1kogNId5ALsh"
      },
      "execution_count": null,
      "outputs": []
    }
  ]
}